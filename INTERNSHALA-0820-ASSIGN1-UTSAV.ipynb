{
 "cells": [
  {
   "cell_type": "markdown",
   "metadata": {},
   "source": [
    "### Face Detection & Recognition\n",
    "\n",
    "#### Author: Utsav Tripathi\n",
    "#### For: Assignment 1 Internshala - Nuclei Technologies"
   ]
  },
  {
   "cell_type": "markdown",
   "metadata": {},
   "source": [
    "#### Create a \"database\" (list) of known faces"
   ]
  },
  {
   "cell_type": "code",
   "execution_count": 1,
   "metadata": {},
   "outputs": [],
   "source": [
    "import PIL\n",
    "from PIL import Image, ImageDraw, ImageFont\n",
    "import face_recognition as fr\n",
    "import cv2\n",
    "\n",
    "p1 = fr.load_image_file(\"1.jpeg\")\n",
    "p2 = fr.load_image_file(\"2.jpeg\")\n",
    "p3 = fr.load_image_file(\"3.jpeg\")\n",
    "\n",
    "p1_enc = fr.face_encodings(p1)[0]\n",
    "p2_enc = fr.face_encodings(p2)[0]\n",
    "p3_enc = fr.face_encodings(p3)[0]\n",
    "\n",
    "kn_encs_ls = [p1_enc, p2_enc, p3_enc]"
   ]
  },
  {
   "cell_type": "markdown",
   "metadata": {},
   "source": [
    "#### Capture a real time feed to recognize the face"
   ]
  },
  {
   "cell_type": "code",
   "execution_count": 8,
   "metadata": {},
   "outputs": [],
   "source": [
    "vid_cap_obj = cv2.VideoCapture(0)\n",
    "\n",
    "while(True):\n",
    "    ret,frame = vid_cap_obj.read()\n",
    "    cv2.imwrite('frame.jpg',frame)\n",
    "    break\n",
    "    \n",
    "pic = '/home/artificially_intelligent/Desktop/Face Recognition/frame.jpg'\n",
    "\n",
    "im = Image.open(pic)\n",
    "w, h = im.size\n",
    "\n",
    "img = fr.load_image_file(pic)\n",
    "\n",
    "f_locs = fr.face_locations(img, number_of_times_to_upsample=2)\n",
    "\n",
    "total_faces = len(f_locs)\n",
    "\n",
    "img_pil = PIL.Image.fromarray(img)\n",
    "\n",
    "unkn_encs = fr.face_encodings(img, known_face_locations=f_locs)\n",
    "\n",
    "dr = PIL.ImageDraw.Draw(img_pil)\n",
    "font = ImageFont.truetype('Pillow/Tests/fonts/FreeMono.ttf', 20)\n",
    "dr.text((w//4, 30), f'Found {total_faces} face(s) in the picture', fill = 'red', font = font, stroke_width = 1)\n",
    "\n",
    "for unkn_enc in unkn_encs:\n",
    "\n",
    "    res = fr.compare_faces(kn_encs_ls, unkn_enc, tolerance=0.6)\n",
    "\n",
    "    name = \"\"\n",
    "\n",
    "    # Change the name in the order of uploaded list of known faces\n",
    "        \n",
    "    if res[0]:\n",
    "        name = \"Pragya\"\n",
    "    elif res[1]:\n",
    "        name = \"Utsav\"\n",
    "    elif res[2]:\n",
    "        name = \"Rita\"\n",
    "    else:\n",
    "        name = 'Not Recognized!'\n",
    "\n",
    "for f_loc in f_locs:\n",
    "\n",
    "    t, r, b, l = f_loc\n",
    "\n",
    "    dr = PIL.ImageDraw.Draw(img_pil)\n",
    "    font = ImageFont.truetype('Pillow/Tests/fonts/FreeMono.ttf', 20)\n",
    "    dr.text((l, t-20), name, fill = 'red', font = font, stroke_width = 1)\n",
    "    dr.rectangle([l, t, r, b], outline = \"red\", width = 5)\n",
    "    \n",
    "\n",
    "\n",
    "img_pil.show()\n",
    "\n",
    "vid_cap_obj.release()\n",
    "cv2.destroyAllWindows()"
   ]
  }
 ],
 "metadata": {
  "kernelspec": {
   "display_name": "Python 3",
   "language": "python",
   "name": "python3"
  },
  "language_info": {
   "codemirror_mode": {
    "name": "ipython",
    "version": 3
   },
   "file_extension": ".py",
   "mimetype": "text/x-python",
   "name": "python",
   "nbconvert_exporter": "python",
   "pygments_lexer": "ipython3",
   "version": "3.6.9"
  }
 },
 "nbformat": 4,
 "nbformat_minor": 4
}
